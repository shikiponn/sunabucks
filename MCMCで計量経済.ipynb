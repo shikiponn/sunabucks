{
 "cells": [
  {
   "cell_type": "code",
   "execution_count": 2,
   "metadata": {
    "collapsed": true
   },
   "outputs": [],
   "source": [
    "import numpy as np\n",
    "import pandas as pd\n",
    "import matplotlib.pyplot as plt\n",
    "plt.style.use('ggplot') \n",
    "%matplotlib inline\n",
    "# import cufflinks as cf\n",
    "# import holoviews as hv\n",
    "from numpy.random import *"
   ]
  },
  {
   "cell_type": "code",
   "execution_count": 3,
   "metadata": {
    "collapsed": true
   },
   "outputs": [],
   "source": [
    "seed(8492)\n",
    "\n",
    "\"\"\"\n",
    "サンプル生成用の関数\n",
    "\"\"\"\n",
    "def create_sample(n):\n",
    "    #XとZを相関を持つように作る\n",
    "    cX = multivariate_normal( [10,10],  [[10,8],[8,10]],  n)\n",
    "    \n",
    "    #誤差項\n",
    "    eps = normal(0, 5, n)\n",
    "\n",
    "    #観測不可能な交絡因子\n",
    "    conf = normal(10, 5, n)\n",
    "\n",
    "    #data for OLS\n",
    "    y_OLS = 5 + 15*X+ eps\n",
    "    \n",
    "    #data for TSLS\n",
    "    #交絡要因の影響は適当に入れている\n",
    "    Z = cX[:,0]\n",
    "    X = 5 + cX[:,1] + 0.3*conf\n",
    "    y = 5 + 15*X + 0.4*conf + eps\n",
    "    \n",
    "    return y, X, Z, y_OLS\n"
   ]
  },
  {
   "cell_type": "code",
   "execution_count": 4,
   "metadata": {
    "collapsed": true
   },
   "outputs": [],
   "source": [
    "\n",
    "# ベクトルは行列計算出来ないので\n",
    "# ndarrayに定数項用の列を追加\n",
    "def add_const(X):\n",
    "    r, c = X.shape\n",
    "    nX = np.ones((r, c+1))\n",
    "    nX[:,:-1] = X\n",
    "    return nX\n",
    "\n",
    "#OLSを解く\n",
    "def solve_OLS(y, X):\n",
    "    X = X[:, np.newaxis]\n",
    "    X = add_const(X)\n",
    "    ans = np.linalg.inv(X.T@X)@X.T@y\n",
    "\n",
    "    return ans"
   ]
  },
  {
   "cell_type": "code",
   "execution_count": null,
   "metadata": {
    "collapsed": true
   },
   "outputs": [],
   "source": [
    "#普通にOLS解く\n",
    "\n",
    "#test\n",
    "df = pd.DataFrame(index=[], columns=[\"n\", \"OLS\", \"OLS with conf\", \"TSLS\", \"TSLS ML\"])\n",
    "#サンプルサイズを100から5000まで100ずつふやしながら予測してみる\n",
    "i = 100\n",
    "while i <= 3000:\n",
    "    y,X,Z,y_OLS = create_sample(i)\n",
    "    #ここ気持ち悪いことになってるごめん\n",
    "    #X（shapeは(n,1)）の係数だけDFに入れている\n",
    "    sr = pd.Series([i, solve_OLS(y_OLS, X)[0], solve_OLS(y, X)[0], solve_TSLS(y, X, Z)[0], solve_TSLS_ML(y, X, Z)[0]],index=[\"n\", \"OLS\", \"OLS with conf\", \"TSLS\", \"TSLS ML\"])\n",
    "    df = df.append(sr,ignore_index=True)\n",
    "    print(i)\n",
    "    i += 100"
   ]
  },
  {
   "cell_type": "code",
   "execution_count": 5,
   "metadata": {},
   "outputs": [],
   "source": [
    "#ベイズでOLSを解く\n",
    "import pymc3 as pm\n",
    "\n",
    "#変数を格納するモデルオブジェクトを生成する\n",
    "ols_model = pm.Model()\n",
    "\n",
    "with ols_model:\n",
    "    #モデルパラメータのpriorを設定\n",
    "    beta = Normal('beta', mu=0, sd=10, shape=2)\n"
   ]
  },
  {
   "cell_type": "code",
   "execution_count": null,
   "metadata": {
    "collapsed": true
   },
   "outputs": [],
   "source": [
    "#勾配法でOLSを解く"
   ]
  }
 ],
 "metadata": {
  "kernelspec": {
   "display_name": "Python [default]",
   "language": "python",
   "name": "python3"
  },
  "language_info": {
   "codemirror_mode": {
    "name": "ipython",
    "version": 3
   },
   "file_extension": ".py",
   "mimetype": "text/x-python",
   "name": "python",
   "nbconvert_exporter": "python",
   "pygments_lexer": "ipython3",
   "version": "3.5.3"
  }
 },
 "nbformat": 4,
 "nbformat_minor": 2
}
