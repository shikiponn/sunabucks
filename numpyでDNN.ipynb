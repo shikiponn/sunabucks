{
 "cells": [
  {
   "cell_type": "code",
   "execution_count": 5,
   "metadata": {
    "collapsed": false
   },
   "outputs": [],
   "source": [
    "import numpy as np\n"
   ]
  },
  {
   "cell_type": "code",
   "execution_count": 6,
   "metadata": {
    "collapsed": false
   },
   "outputs": [
    {
     "ename": "NameError",
     "evalue": "name 'numpy' is not defined",
     "output_type": "error",
     "traceback": [
      "\u001b[0;31m---------------------------------------------------------------------------\u001b[0m",
      "\u001b[0;31mNameError\u001b[0m                                 Traceback (most recent call last)",
      "\u001b[0;32m<ipython-input-6-182a10450a56>\u001b[0m in \u001b[0;36m<module>\u001b[0;34m()\u001b[0m\n\u001b[1;32m      3\u001b[0m \u001b[0;34m\u001b[0m\u001b[0m\n\u001b[1;32m      4\u001b[0m \u001b[0;31m#Random Seed\u001b[0m\u001b[0;34m\u001b[0m\u001b[0;34m\u001b[0m\u001b[0m\n\u001b[0;32m----> 5\u001b[0;31m \u001b[0mseed\u001b[0m \u001b[0;34m=\u001b[0m \u001b[0mnumpy\u001b[0m\u001b[0;34m.\u001b[0m\u001b[0mrandom\u001b[0m\u001b[0;34m.\u001b[0m\u001b[0mRandomState\u001b[0m\u001b[0;34m(\u001b[0m\u001b[0;36m1234\u001b[0m\u001b[0;34m)\u001b[0m\u001b[0;34m\u001b[0m\u001b[0m\n\u001b[0m\u001b[1;32m      6\u001b[0m \u001b[0;34m\u001b[0m\u001b[0m\n\u001b[1;32m      7\u001b[0m \u001b[0mmnist\u001b[0m \u001b[0;34m=\u001b[0m \u001b[0mfetch_mldata\u001b[0m\u001b[0;34m(\u001b[0m\u001b[0;34m'MNIST original'\u001b[0m\u001b[0;34m)\u001b[0m\u001b[0;34m\u001b[0m\u001b[0m\n",
      "\u001b[0;31mNameError\u001b[0m: name 'numpy' is not defined"
     ]
    }
   ],
   "source": [
    "#get mnist\n",
    "from sklearn.datasets import fetch_mldata\n",
    "\n",
    "#Random Seed\n",
    "seed = numpy.random.RandomState(1234)\n",
    "\n",
    "mnist = fetch_mldata('MNIST original')\n",
    "\n",
    "# mnist_x is a (n_sample, n_feature=784) matrix\n",
    "mnist_x, mnist_y = mnist.data.astype(\"float32\")/255.0, mnist.target.astype(\"int32\")"
   ]
  },
  {
   "cell_type": "code",
   "execution_count": 1,
   "metadata": {
    "collapsed": true
   },
   "outputs": [],
   "source": [
    "in_dim = 128\n",
    "out_dim = 10"
   ]
  },
  {
   "cell_type": "code",
   "execution_count": 13,
   "metadata": {
    "collapsed": false
   },
   "outputs": [
    {
     "data": {
      "text/plain": [
       "array([[ 1.,  1.]])"
      ]
     },
     "execution_count": 13,
     "metadata": {},
     "output_type": "execute_result"
    }
   ],
   "source": [
    "in_dim = in_dim\n",
    "out_dim = out_dim\n",
    "        \n",
    "def ReLU(self):\n",
    "        return\n",
    "    \n",
    "def Xentropy(self):\n",
    "        return\n",
    "    \n",
    "class hidden:\n",
    "        def __init__(in_dim, out_dim):\n",
    "            return\n",
    "\n",
    "#　softmax\n",
    "def softmax(x):\n",
    "        return  np.exp(x)/np.sum(np.exp(x),axis=1)[:,np.newaxis]\n",
    "        #入力が一次元なので行列に直す？列をSUMするので\n",
    "def diff_softmax(x):\n",
    "    return softmax(x)*(np.ones(x.shape)-softmax(x))\n",
    "\n",
    "# tanh\n",
    "def tanh(x):\n",
    "    return (np.exp(x)-np.exp(-x))/(np.exp(x)+np.exp(-x))\n",
    "def diff_tanh(x):\n",
    "    return 1-tanh(x)**2\n",
    "\n",
    "\n",
    "class layer:\n",
    "    def __init__(self, in_dim, out_dim, function):\n",
    "        self.in_dim = in_dim\n",
    "        self.out_dim = out_dim\n",
    "        self.func = function\n",
    "        self.b  = 0\n",
    "        self.W = np.ones((1, 2))\n",
    "    def fprop():\n",
    "        h = self.function(self.p*T.dot(x, self.W)+self.b)\n",
    "        self.h = h\n",
    "        return h     \n",
    "        return\n",
    "    def bprop():\n",
    "        return\n",
    "    \n",
    "l = layer(2,2,2)\n",
    "l.W"
   ]
  },
  {
   "cell_type": "markdown",
   "metadata": {},
   "source": [
    "## run"
   ]
  },
  {
   "cell_type": "code",
   "execution_count": null,
   "metadata": {
    "collapsed": true
   },
   "outputs": [],
   "source": [
    "n = 100\n",
    "for i in range(10):\n",
    "    #sklereanでランダムサンプル\n",
    "    #train\n",
    "        #forward\n",
    "        #back\n",
    "    n % 5 == 0:\n",
    "        print(\"#現在の性能\")"
   ]
  }
 ],
 "metadata": {
  "kernelspec": {
   "display_name": "Python 2",
   "language": "python",
   "name": "python2"
  },
  "language_info": {
   "codemirror_mode": {
    "name": "ipython",
    "version": 2
   },
   "file_extension": ".py",
   "mimetype": "text/x-python",
   "name": "python",
   "nbconvert_exporter": "python",
   "pygments_lexer": "ipython2",
   "version": "2.7.13"
  }
 },
 "nbformat": 4,
 "nbformat_minor": 1
}
